{
 "cells": [
  {
   "cell_type": "code",
   "execution_count": null,
   "id": "3966789a-9319-4453-b438-22268741ee15",
   "metadata": {},
   "outputs": [],
   "source": [
    "1. Create an assert statement that throws an AssertionError if the variable spam is a negative\n",
    "integer."
   ]
  },
  {
   "cell_type": "code",
   "execution_count": null,
   "id": "8eed5965-07ac-478c-9a32-5b62ab5b0675",
   "metadata": {},
   "outputs": [],
   "source": [
    "Ans. The assert statement is used to continue the execute if the given condition evaluates to True. If the assert condition evaluates to False, then it raises the AssertionError exception with the specified error message."
   ]
  },
  {
   "cell_type": "code",
   "execution_count": 1,
   "id": "de0b9d1a-94bd-4767-9f95-84266e2b8273",
   "metadata": {},
   "outputs": [
    {
     "name": "stdout",
     "output_type": "stream",
     "text": [
      "Collecting pyinputplus\n",
      "  Downloading PyInputPlus-0.2.12.tar.gz (20 kB)\n",
      "  Installing build dependencies ... \u001b[?25ldone\n",
      "\u001b[?25h  Getting requirements to build wheel ... \u001b[?25ldone\n",
      "\u001b[?25h  Preparing metadata (pyproject.toml) ... \u001b[?25ldone\n",
      "\u001b[?25hCollecting stdiomask>=0.0.3\n",
      "  Downloading stdiomask-0.0.6.tar.gz (3.6 kB)\n",
      "  Installing build dependencies ... \u001b[?25ldone\n",
      "\u001b[?25h  Getting requirements to build wheel ... \u001b[?25ldone\n",
      "\u001b[?25h  Preparing metadata (pyproject.toml) ... \u001b[?25ldone\n",
      "\u001b[?25hCollecting pysimplevalidate>=0.2.7\n",
      "  Downloading PySimpleValidate-0.2.12.tar.gz (22 kB)\n",
      "  Installing build dependencies ... \u001b[?25ldone\n",
      "\u001b[?25h  Getting requirements to build wheel ... \u001b[?25ldone\n",
      "\u001b[?25h  Preparing metadata (pyproject.toml) ... \u001b[?25ldone\n",
      "\u001b[?25hBuilding wheels for collected packages: pyinputplus, pysimplevalidate, stdiomask\n",
      "  Building wheel for pyinputplus (pyproject.toml) ... \u001b[?25ldone\n",
      "\u001b[?25h  Created wheel for pyinputplus: filename=PyInputPlus-0.2.12-py3-none-any.whl size=11295 sha256=d61f56492fd06ebca059d5d1e745a1a42ae8242e38afb37aa021e78ddf06d163\n",
      "  Stored in directory: /home/jovyan/.cache/pip/wheels/2d/72/d9/818396cecb072b3d697a47b007d9bbad74859a83a635e47d4d\n",
      "  Building wheel for pysimplevalidate (pyproject.toml) ... \u001b[?25ldone\n",
      "\u001b[?25h  Created wheel for pysimplevalidate: filename=PySimpleValidate-0.2.12-py3-none-any.whl size=16177 sha256=24d6d5bf0c4adb27f0b0c1cdf67e2506d0a578d75ba30875113d07addd906be7\n",
      "  Stored in directory: /home/jovyan/.cache/pip/wheels/05/ad/4d/7289d8b9a519e88167728584876a1a1073a3f71666d875aba7\n",
      "  Building wheel for stdiomask (pyproject.toml) ... \u001b[?25ldone\n",
      "\u001b[?25h  Created wheel for stdiomask: filename=stdiomask-0.0.6-py3-none-any.whl size=3306 sha256=d8507150e602bb7fd31bfef861eb28e148419c7584393b9b80684262be87911a\n",
      "  Stored in directory: /home/jovyan/.cache/pip/wheels/41/ee/55/6e4b70f6248b280caae3d938bc543206bb1a75988b739f1238\n",
      "Successfully built pyinputplus pysimplevalidate stdiomask\n",
      "Installing collected packages: stdiomask, pysimplevalidate, pyinputplus\n",
      "Successfully installed pyinputplus-0.2.12 pysimplevalidate-0.2.12 stdiomask-0.0.6\n"
     ]
    }
   ],
   "source": [
    "\n",
    "!pip install pyinputplus\n",
    "\n",
    "     "
   ]
  },
  {
   "cell_type": "code",
   "execution_count": 2,
   "id": "8873940e-7094-4c7e-a21d-2c94f336d833",
   "metadata": {},
   "outputs": [
    {
     "name": "stdout",
     "output_type": "stream",
     "text": [
      " Enter a positive number :"
     ]
    },
    {
     "name": "stdin",
     "output_type": "stream",
     "text": [
      " -8\n"
     ]
    },
    {
     "ename": "AssertionError",
     "evalue": "",
     "output_type": "error",
     "traceback": [
      "\u001b[0;31m---------------------------------------------------------------------------\u001b[0m",
      "\u001b[0;31mAssertionError\u001b[0m                            Traceback (most recent call last)",
      "Cell \u001b[0;32mIn [2], line 4\u001b[0m\n\u001b[1;32m      1\u001b[0m \u001b[38;5;28;01mimport\u001b[39;00m \u001b[38;5;21;01mpyinputplus\u001b[39;00m \u001b[38;5;28;01mas\u001b[39;00m \u001b[38;5;21;01mpyip\u001b[39;00m\n\u001b[1;32m      3\u001b[0m spam \u001b[38;5;241m=\u001b[39m pyip\u001b[38;5;241m.\u001b[39minputNum(\u001b[38;5;124m\"\u001b[39m\u001b[38;5;124m Enter a positive number :\u001b[39m\u001b[38;5;124m\"\u001b[39m)\n\u001b[0;32m----> 4\u001b[0m \u001b[38;5;28;01massert\u001b[39;00m spam \u001b[38;5;241m>\u001b[39m \u001b[38;5;241m0\u001b[39m\n\u001b[1;32m      5\u001b[0m \u001b[38;5;28mprint\u001b[39m(spam,\u001b[38;5;124m'\u001b[39m\u001b[38;5;124mis a positive number\u001b[39m\u001b[38;5;124m'\u001b[39m)\n",
      "\u001b[0;31mAssertionError\u001b[0m: "
     ]
    }
   ],
   "source": [
    "\n",
    "import pyinputplus as pyip\n",
    "\n",
    "spam = pyip.inputNum(\" Enter a positive number :\")\n",
    "assert spam > 0\n",
    "print(spam,'is a positive number')\n",
    "     "
   ]
  },
  {
   "cell_type": "code",
   "execution_count": null,
   "id": "3c87a9ec-7b54-4600-a3e1-75fd6894d9d1",
   "metadata": {},
   "outputs": [],
   "source": []
  },
  {
   "cell_type": "code",
   "execution_count": null,
   "id": "5f7997f9-a843-46d0-bda7-4357789b2b97",
   "metadata": {},
   "outputs": [],
   "source": [
    "Q. 2. Write an assert statement that triggers an AssertionError if the variables eggs and bacon contain strings that are the same as each other, even if their cases are different (that is, 'hello' and 'hello' are considered the same, and 'goodbye' and 'GOODbye' are also considered the same)."
   ]
  },
  {
   "cell_type": "code",
   "execution_count": 3,
   "id": "64482b78-5f34-49cd-a6bf-ed85bfc7cb94",
   "metadata": {},
   "outputs": [
    {
     "ename": "AssertionError",
     "evalue": "",
     "output_type": "error",
     "traceback": [
      "\u001b[0;31m---------------------------------------------------------------------------\u001b[0m",
      "\u001b[0;31mAssertionError\u001b[0m                            Traceback (most recent call last)",
      "Cell \u001b[0;32mIn [3], line 4\u001b[0m\n\u001b[1;32m      1\u001b[0m eggs\u001b[38;5;241m=\u001b[39m\u001b[38;5;124m'\u001b[39m\u001b[38;5;124mHello\u001b[39m\u001b[38;5;124m'\u001b[39m\n\u001b[1;32m      2\u001b[0m bacon \u001b[38;5;241m=\u001b[39m\u001b[38;5;124m'\u001b[39m\u001b[38;5;124mhello\u001b[39m\u001b[38;5;124m'\u001b[39m\n\u001b[0;32m----> 4\u001b[0m \u001b[38;5;28;01massert\u001b[39;00m eggs\u001b[38;5;241m.\u001b[39mlower() \u001b[38;5;241m!=\u001b[39m bacon\u001b[38;5;241m.\u001b[39mlower() \u001b[38;5;129;01mor\u001b[39;00m eggs\u001b[38;5;241m.\u001b[39mupper() \u001b[38;5;241m!=\u001b[39m bacon\u001b[38;5;241m.\u001b[39mupper()\n\u001b[1;32m      5\u001b[0m \u001b[38;5;28mprint\u001b[39m(\u001b[38;5;124m'\u001b[39m\u001b[38;5;124mThe eggs and bacon variables are not the same!\u001b[39m\u001b[38;5;124m'\u001b[39m)\n",
      "\u001b[0;31mAssertionError\u001b[0m: "
     ]
    }
   ],
   "source": [
    "\n",
    "eggs='Hello'\n",
    "bacon ='hello'\n",
    "\n",
    "assert eggs.lower() != bacon.lower() or eggs.upper() != bacon.upper()\n",
    "print('The eggs and bacon variables are not the same!')\n",
    "     "
   ]
  },
  {
   "cell_type": "code",
   "execution_count": null,
   "id": "57b1ae30-8e98-4a57-8b00-f42609029a14",
   "metadata": {},
   "outputs": [],
   "source": [
    "3. Create an assert statement that throws an AssertionError every time."
   ]
  },
  {
   "cell_type": "code",
   "execution_count": null,
   "id": "b5ea50f3-27df-4857-a9f6-6a2f60adec2b",
   "metadata": {},
   "outputs": [],
   "source": [
    "assert False - this always triggers an exception"
   ]
  },
  {
   "cell_type": "code",
   "execution_count": 4,
   "id": "131f030d-362b-4417-ab29-63faa59d9b08",
   "metadata": {},
   "outputs": [
    {
     "ename": "AssertionError",
     "evalue": "",
     "output_type": "error",
     "traceback": [
      "\u001b[0;31m---------------------------------------------------------------------------\u001b[0m",
      "\u001b[0;31mAssertionError\u001b[0m                            Traceback (most recent call last)",
      "Cell \u001b[0;32mIn [4], line 1\u001b[0m\n\u001b[0;32m----> 1\u001b[0m \u001b[38;5;28;01massert\u001b[39;00m \u001b[38;5;28;01mFalse\u001b[39;00m\n",
      "\u001b[0;31mAssertionError\u001b[0m: "
     ]
    }
   ],
   "source": [
    "\n",
    "assert False\n",
    "     "
   ]
  },
  {
   "cell_type": "code",
   "execution_count": null,
   "id": "c1053942-e43b-4ecd-a8ea-4031fd987bef",
   "metadata": {},
   "outputs": [],
   "source": [
    "Q. 4. What are the two lines that must be present in your software in order to call logging.debug()?"
   ]
  },
  {
   "cell_type": "code",
   "execution_count": null,
   "id": "38943944-73c6-407b-9ff6-e7b5b687557b",
   "metadata": {},
   "outputs": [],
   "source": [
    "\n",
    "import logging as lg\n",
    "lg.basicConfig(level=lg.DEBUG, format=' %(asctime)s - %(levelname)s - %(message)s')\n",
    "     "
   ]
  },
  {
   "cell_type": "code",
   "execution_count": null,
   "id": "a369cfaf-fffa-4a5c-92fe-8c34124c4935",
   "metadata": {},
   "outputs": [],
   "source": [
    "5. What are the two lines that your program must have in order to have logging.debug() send a\n",
    "logging message to a file named programLog.txt?"
   ]
  },
  {
   "cell_type": "code",
   "execution_count": null,
   "id": "998a1682-631a-4b6b-b5ac-1edb52fceff7",
   "metadata": {},
   "outputs": [],
   "source": [
    "\n",
    "import logging as lg\n",
    "lg.basicConfig(filename='programLog.txt', level=lg.DEBUG, format=' %(asctime)s - %(levelname)s - %(message)s')\n",
    "     "
   ]
  },
  {
   "cell_type": "code",
   "execution_count": null,
   "id": "9426ba21-4e02-45dd-9c19-d05967f53e6d",
   "metadata": {},
   "outputs": [],
   "source": [
    "6. What are the five levels of logging?"
   ]
  },
  {
   "cell_type": "code",
   "execution_count": null,
   "id": "9c9c9e4f-9fb9-448d-8ae9-54c991639014",
   "metadata": {},
   "outputs": [],
   "source": [
    "Ans .Five level of loggins are DEBUG, INFO, WARNING, ERROR, and CRITICAL\n",
    "\n",
    "logging.debug() - variable's state and small details\n",
    "\n",
    "logging.info() - general events, confirm a program is working\n",
    "\n",
    "logging.warning() - potiental problem to work on in the future\n",
    "\n",
    "logging.error() - record an error that caused program to fail to do something\n",
    "\n",
    "logging.critical() - fatal error that has caused"
   ]
  },
  {
   "cell_type": "code",
   "execution_count": null,
   "id": "e71ac300-48ef-4817-bada-12eebdc344ff",
   "metadata": {},
   "outputs": [],
   "source": [
    "7. What line of code would you add to your software to disable all logging messages?"
   ]
  },
  {
   "cell_type": "code",
   "execution_count": null,
   "id": "fb451fd7-3acc-49f0-a316-8e007e3233e2",
   "metadata": {},
   "outputs": [],
   "source": [
    "\n",
    "import logging as lg\n",
    "lg.disable(lg.CRITICAL)\n",
    "     "
   ]
  },
  {
   "cell_type": "code",
   "execution_count": null,
   "id": "c9c609aa-867d-432a-9a35-ebde38ee09c4",
   "metadata": {},
   "outputs": [],
   "source": [
    "8.Why is using logging messages better than using print() to display the same message?"
   ]
  },
  {
   "cell_type": "code",
   "execution_count": null,
   "id": "2588c0ac-1cc1-4936-8805-60446515aec6",
   "metadata": {},
   "outputs": [],
   "source": [
    "Ans.\n",
    "\n",
    "You can disable logging messages without removing the logging function calls.\n",
    "\n",
    "You can selectively disable lower-level logging messages.\n",
    "\n",
    "You can create logging messages. Logging messages provides a timestamp."
   ]
  },
  {
   "cell_type": "code",
   "execution_count": null,
   "id": "db37a743-2004-41b9-afcb-e57b92a9c3a8",
   "metadata": {},
   "outputs": [],
   "source": [
    "9. What are the differences between the Step Over, Step In, and Step Out buttons in the debugger?"
   ]
  },
  {
   "cell_type": "code",
   "execution_count": null,
   "id": "fd08cf69-e012-4fc5-8035-4e86d2325fab",
   "metadata": {},
   "outputs": [],
   "source": [
    "Ans.\n",
    "\n",
    "The Step in button will move the debugger into a function call.\n",
    "\n",
    "The Over button will quickly execute the function call without stepping into it.\n",
    "\n",
    "The Out button will quickly execute the rest of the code until it steps out of the function it currently is in."
   ]
  },
  {
   "cell_type": "code",
   "execution_count": null,
   "id": "1bf1ab4d-6234-4f95-92c8-0474567c18ff",
   "metadata": {},
   "outputs": [],
   "source": [
    "10.After you click Continue, when will the debugger stop ?"
   ]
  },
  {
   "cell_type": "code",
   "execution_count": null,
   "id": "11c313b9-9570-4ac8-bdae-e16c04b42737",
   "metadata": {},
   "outputs": [],
   "source": [
    "Ans. It will stops at next breakpoint, if there are no further breakpoints program will be fully executed."
   ]
  },
  {
   "cell_type": "code",
   "execution_count": null,
   "id": "605bef2b-5cb1-489b-92f6-532f3d14eb8d",
   "metadata": {},
   "outputs": [],
   "source": [
    "11. What is the concept of a breakpoint?"
   ]
  },
  {
   "cell_type": "code",
   "execution_count": null,
   "id": "53fc0d19-acd2-4e39-bf5f-0b6a7bb5380b",
   "metadata": {},
   "outputs": [],
   "source": [
    "Ans. A breakpoint is an intentional stopping point or pause put into a program for debugging purposes.\n"
   ]
  },
  {
   "cell_type": "code",
   "execution_count": null,
   "id": "2361c3f0-5e33-4f9e-adf5-dfc3679564b3",
   "metadata": {},
   "outputs": [],
   "source": []
  }
 ],
 "metadata": {
  "kernelspec": {
   "display_name": "Python 3 (ipykernel)",
   "language": "python",
   "name": "python3"
  },
  "language_info": {
   "codemirror_mode": {
    "name": "ipython",
    "version": 3
   },
   "file_extension": ".py",
   "mimetype": "text/x-python",
   "name": "python",
   "nbconvert_exporter": "python",
   "pygments_lexer": "ipython3",
   "version": "3.10.6"
  }
 },
 "nbformat": 4,
 "nbformat_minor": 5
}
